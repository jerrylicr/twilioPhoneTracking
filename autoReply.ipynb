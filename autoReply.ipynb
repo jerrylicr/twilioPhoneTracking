{
 "cells": [
  {
   "cell_type": "code",
   "execution_count": 1,
   "metadata": {},
   "outputs": [
    {
     "name": "stdout",
     "output_type": "stream",
     "text": [
      "SM09be4b7256f44a7984711a3f8445845a\n"
     ]
    }
   ],
   "source": [
    "from twilio.rest import Client\n",
    "\n",
    "# Your Account SID from twilio.com/console\n",
    "account_sid = \"AC91a8f4bef9bf26e43e04cdb3de63944a\"\n",
    "# Your Auth Token from twilio.com/console\n",
    "auth_token  = \"09ef8973c2088732c001a6b1cd04654d\"\n",
    "\n",
    "client = Client(account_sid, auth_token)\n",
    "\n",
    "message = client.messages.create(\n",
    "    to=\"+15109938060\", \n",
    "    from_=\"+18457044117\",\n",
    "    body=\"Hello from Python!\")\n",
    "\n",
    "print(message.sid)"
   ]
  },
  {
   "cell_type": "code",
   "execution_count": 2,
   "metadata": {},
   "outputs": [
    {
     "name": "stdout",
     "output_type": "stream",
     "text": [
      "31\n",
      "Sat Sep 12 19:47:36 2020\n",
      "31\n",
      "Sat Sep 12 19:47:47 2020\n",
      "33\n",
      "+15109938060 +18457044117\n",
      "+18457044117 +18457044117\n",
      "Sat Sep 12 19:47:58 2020\n",
      "34\n",
      "+15109938060 +18457044117\n",
      "Sat Sep 12 19:48:10 2020\n"
     ]
    }
   ],
   "source": [
    "import time, threading\n",
    "\n",
    "\n",
    "my_phone = \"+18457044117\"\n",
    "cur_number = len(client.messages.list())\n",
    "def periodically_check_income():\n",
    "    global cur_number\n",
    "    print(len(client.messages.list()))\n",
    "    if len(client.messages.list()) > cur_number:\n",
    "        to_check_l = client.messages.list()[:-cur_number]\n",
    "        cur_number += len(to_check_l)\n",
    "        for mes in to_check_l:\n",
    "            print(mes.to, my_phone)\n",
    "            if mes.to == my_phone:\n",
    "                client.messages.create(\n",
    "                            to=mes.from_, \n",
    "                            from_=my_phone,\n",
    "                            body=\"Auto_reply\")\n",
    "    print(time.ctime())\n",
    "    \n",
    "    \n",
    "    threading.Timer(10, periodically_check_income).start()\n",
    "\n",
    "periodically_check_income()\n"
   ]
  },
  {
   "cell_type": "code",
   "execution_count": 2,
   "metadata": {},
   "outputs": [
    {
     "data": {
      "text/plain": [
       "['__class__',\n",
       " '__delattr__',\n",
       " '__dict__',\n",
       " '__dir__',\n",
       " '__doc__',\n",
       " '__eq__',\n",
       " '__format__',\n",
       " '__ge__',\n",
       " '__getattribute__',\n",
       " '__gt__',\n",
       " '__hash__',\n",
       " '__init__',\n",
       " '__init_subclass__',\n",
       " '__le__',\n",
       " '__lt__',\n",
       " '__module__',\n",
       " '__ne__',\n",
       " '__new__',\n",
       " '__reduce__',\n",
       " '__reduce_ex__',\n",
       " '__repr__',\n",
       " '__setattr__',\n",
       " '__sizeof__',\n",
       " '__str__',\n",
       " '__subclasshook__',\n",
       " '__weakref__',\n",
       " '_accounts',\n",
       " '_api',\n",
       " '_autopilot',\n",
       " '_bulkexports',\n",
       " '_chat',\n",
       " '_conversations',\n",
       " '_events',\n",
       " '_fax',\n",
       " '_flex_api',\n",
       " '_insights',\n",
       " '_ip_messaging',\n",
       " '_lookups',\n",
       " '_messaging',\n",
       " '_monitor',\n",
       " '_notify',\n",
       " '_numbers',\n",
       " '_preview',\n",
       " '_pricing',\n",
       " '_proxy',\n",
       " '_serverless',\n",
       " '_studio',\n",
       " '_supersim',\n",
       " '_sync',\n",
       " '_taskrouter',\n",
       " '_trunking',\n",
       " '_verify',\n",
       " '_video',\n",
       " '_voice',\n",
       " '_wireless',\n",
       " 'account_sid',\n",
       " 'accounts',\n",
       " 'addresses',\n",
       " 'api',\n",
       " 'applications',\n",
       " 'auth',\n",
       " 'authorized_connect_apps',\n",
       " 'autopilot',\n",
       " 'available_phone_numbers',\n",
       " 'balance',\n",
       " 'bulkexports',\n",
       " 'calls',\n",
       " 'chat',\n",
       " 'conferences',\n",
       " 'connect_apps',\n",
       " 'conversations',\n",
       " 'edge',\n",
       " 'events',\n",
       " 'fax',\n",
       " 'flex_api',\n",
       " 'get_hostname',\n",
       " 'http_client',\n",
       " 'incoming_phone_numbers',\n",
       " 'insights',\n",
       " 'ip_messaging',\n",
       " 'keys',\n",
       " 'lookups',\n",
       " 'messages',\n",
       " 'messaging',\n",
       " 'monitor',\n",
       " 'new_keys',\n",
       " 'new_signing_keys',\n",
       " 'notifications',\n",
       " 'notify',\n",
       " 'numbers',\n",
       " 'outgoing_caller_ids',\n",
       " 'password',\n",
       " 'preview',\n",
       " 'pricing',\n",
       " 'proxy',\n",
       " 'queues',\n",
       " 'recordings',\n",
       " 'region',\n",
       " 'request',\n",
       " 'serverless',\n",
       " 'short_codes',\n",
       " 'signing_keys',\n",
       " 'sip',\n",
       " 'studio',\n",
       " 'supersim',\n",
       " 'sync',\n",
       " 'taskrouter',\n",
       " 'tokens',\n",
       " 'transcriptions',\n",
       " 'trunking',\n",
       " 'usage',\n",
       " 'username',\n",
       " 'validation_requests',\n",
       " 'verify',\n",
       " 'video',\n",
       " 'voice',\n",
       " 'wireless']"
      ]
     },
     "execution_count": 2,
     "metadata": {},
     "output_type": "execute_result"
    }
   ],
   "source": [
    "dir(client)"
   ]
  },
  {
   "cell_type": "code",
   "execution_count": 3,
   "metadata": {},
   "outputs": [
    {
     "data": {
      "text/plain": [
       "[]"
      ]
     },
     "execution_count": 3,
     "metadata": {},
     "output_type": "execute_result"
    }
   ],
   "source": [
    "client.addresses.list()"
   ]
  },
  {
   "cell_type": "code",
   "execution_count": 4,
   "metadata": {},
   "outputs": [
    {
     "data": {
      "text/plain": [
       "'AC91a8f4bef9bf26e43e04cdb3de63944a'"
      ]
     },
     "execution_count": 4,
     "metadata": {},
     "output_type": "execute_result"
    }
   ],
   "source": [
    "client.account_sid"
   ]
  },
  {
   "cell_type": "code",
   "execution_count": 5,
   "metadata": {},
   "outputs": [
    {
     "data": {
      "text/plain": [
       "[]"
      ]
     },
     "execution_count": 5,
     "metadata": {},
     "output_type": "execute_result"
    }
   ],
   "source": [
    "client.applications.list()"
   ]
  },
  {
   "cell_type": "code",
   "execution_count": 6,
   "metadata": {},
   "outputs": [
    {
     "data": {
      "text/plain": [
       "('AC91a8f4bef9bf26e43e04cdb3de63944a', '09ef8973c2088732c001a6b1cd04654d')"
      ]
     },
     "execution_count": 6,
     "metadata": {},
     "output_type": "execute_result"
    }
   ],
   "source": [
    "client.auth"
   ]
  },
  {
   "cell_type": "code",
   "execution_count": 7,
   "metadata": {},
   "outputs": [
    {
     "data": {
      "text/plain": [
       "[]"
      ]
     },
     "execution_count": 7,
     "metadata": {},
     "output_type": "execute_result"
    }
   ],
   "source": [
    "client.authorized_connect_apps.list()"
   ]
  },
  {
   "cell_type": "code",
   "execution_count": 8,
   "metadata": {},
   "outputs": [
    {
     "data": {
      "text/plain": [
       "'+46769444587'"
      ]
     },
     "execution_count": 8,
     "metadata": {},
     "output_type": "execute_result"
    }
   ],
   "source": [
    "client.available_phone_numbers.list()[0].mobile.list()[0].phone_number"
   ]
  },
  {
   "cell_type": "code",
   "execution_count": 9,
   "metadata": {},
   "outputs": [
    {
     "data": {
      "text/plain": [
       "[]"
      ]
     },
     "execution_count": 9,
     "metadata": {},
     "output_type": "execute_result"
    }
   ],
   "source": [
    "client.conversations.conversations.list()"
   ]
  },
  {
   "cell_type": "code",
   "execution_count": 10,
   "metadata": {},
   "outputs": [
    {
     "data": {
      "text/plain": [
       "[]"
      ]
     },
     "execution_count": 10,
     "metadata": {},
     "output_type": "execute_result"
    }
   ],
   "source": [
    "client.ip_messaging.credentials.list()"
   ]
  },
  {
   "cell_type": "code",
   "execution_count": 11,
   "metadata": {
    "scrolled": true
   },
   "outputs": [
    {
     "data": {
      "text/plain": [
       "['__class__',\n",
       " '__delattr__',\n",
       " '__dict__',\n",
       " '__dir__',\n",
       " '__doc__',\n",
       " '__eq__',\n",
       " '__format__',\n",
       " '__ge__',\n",
       " '__getattribute__',\n",
       " '__gt__',\n",
       " '__hash__',\n",
       " '__init__',\n",
       " '__init_subclass__',\n",
       " '__le__',\n",
       " '__lt__',\n",
       " '__module__',\n",
       " '__ne__',\n",
       " '__new__',\n",
       " '__reduce__',\n",
       " '__reduce_ex__',\n",
       " '__repr__',\n",
       " '__setattr__',\n",
       " '__sizeof__',\n",
       " '__str__',\n",
       " '__subclasshook__',\n",
       " '__weakref__',\n",
       " '_context',\n",
       " '_properties',\n",
       " '_proxy',\n",
       " '_solution',\n",
       " '_version',\n",
       " 'account_sid',\n",
       " 'bindings',\n",
       " 'channels',\n",
       " 'consumption_report_interval',\n",
       " 'date_created',\n",
       " 'date_updated',\n",
       " 'default_channel_creator_role_sid',\n",
       " 'default_channel_role_sid',\n",
       " 'default_service_role_sid',\n",
       " 'delete',\n",
       " 'fetch',\n",
       " 'friendly_name',\n",
       " 'limits',\n",
       " 'links',\n",
       " 'media',\n",
       " 'notifications',\n",
       " 'post_webhook_retry_count',\n",
       " 'post_webhook_url',\n",
       " 'pre_webhook_retry_count',\n",
       " 'pre_webhook_url',\n",
       " 'reachability_enabled',\n",
       " 'read_status_enabled',\n",
       " 'roles',\n",
       " 'sid',\n",
       " 'typing_indicator_timeout',\n",
       " 'update',\n",
       " 'url',\n",
       " 'users',\n",
       " 'webhook_filters',\n",
       " 'webhook_method']"
      ]
     },
     "execution_count": 11,
     "metadata": {},
     "output_type": "execute_result"
    }
   ],
   "source": [
    "dir(client.ip_messaging.services.list()[0])"
   ]
  },
  {
   "cell_type": "code",
   "execution_count": 53,
   "metadata": {},
   "outputs": [
    {
     "data": {
      "text/plain": [
       "'09ef8973c2088732c001a6b1cd04654d'"
      ]
     },
     "execution_count": 53,
     "metadata": {},
     "output_type": "execute_result"
    }
   ],
   "source": [
    "client.password"
   ]
  },
  {
   "cell_type": "code",
   "execution_count": 62,
   "metadata": {},
   "outputs": [
    {
     "data": {
      "text/plain": [
       "<bound method Domain.absolute_url of <Twilio.Verify>>"
      ]
     },
     "execution_count": 62,
     "metadata": {},
     "output_type": "execute_result"
    }
   ],
   "source": [
    "client.verify.absolute_url"
   ]
  },
  {
   "cell_type": "code",
   "execution_count": 67,
   "metadata": {},
   "outputs": [
    {
     "data": {
      "text/plain": [
       "[]"
      ]
     },
     "execution_count": 67,
     "metadata": {},
     "output_type": "execute_result"
    }
   ],
   "source": [
    "client.sip.credential_lists.list()"
   ]
  },
  {
   "cell_type": "code",
   "execution_count": 70,
   "metadata": {},
   "outputs": [
    {
     "data": {
      "text/plain": [
       "[]"
      ]
     },
     "execution_count": 70,
     "metadata": {},
     "output_type": "execute_result"
    }
   ],
   "source": [
    "client.sip.ip_access_control_lists.list()"
   ]
  },
  {
   "cell_type": "code",
   "execution_count": 7,
   "metadata": {},
   "outputs": [
    {
     "name": "stdout",
     "output_type": "stream",
     "text": [
      "+15109938060\n",
      "+18457044117\n",
      "+15109938060\n",
      "+18457044117\n",
      "+15109938060\n",
      "+15109938060\n",
      "+18457044117\n",
      "+15109938060\n",
      "+15109938060\n",
      "+15109938060\n",
      "+15109938060\n",
      "+15109938060\n",
      "+15109938060\n",
      "+15109938060\n",
      "+15109938060\n",
      "+15109938060\n",
      "+18457044117\n",
      "+15109938060\n",
      "+18457044117\n",
      "+15109938060\n",
      "+18457044117\n",
      "+15109938060\n",
      "+18457044117\n",
      "+15109938060\n",
      "+18457044117\n",
      "+15109938060\n",
      "+15109938060\n",
      "27\n"
     ]
    }
   ],
   "source": [
    "for x in client.messages.list():\n",
    "    print(x.to)\n",
    "print(len(client.messages.list()))"
   ]
  },
  {
   "cell_type": "code",
   "execution_count": null,
   "metadata": {},
   "outputs": [],
   "source": []
  },
  {
   "cell_type": "code",
   "execution_count": 8,
   "metadata": {},
   "outputs": [
    {
     "name": "stdout",
     "output_type": "stream",
     "text": [
      "27\n",
      "Sat Sep 12 19:46:26 2020\n",
      "29\n",
      "+15109938060 +18457044117\n",
      "+18457044117 +18457044117\n",
      "Sat Sep 12 19:46:37 2020\n",
      "30\n",
      "+15109938060 +18457044117\n",
      "Sat Sep 12 19:46:48 2020\n",
      "30\n",
      "Sat Sep 12 19:46:58 2020\n"
     ]
    }
   ],
   "source": [
    "import time, threading\n",
    "\n",
    "\n",
    "my_phone = \"+18457044117\"\n",
    "cur_number = len(client.messages.list())\n",
    "def periodically_check_income():\n",
    "    global cur_number\n",
    "    print(len(client.messages.list()))\n",
    "    if len(client.messages.list()) > cur_number:\n",
    "        to_check_l = client.messages.list()[:-cur_number]\n",
    "        cur_number += len(to_check_l)\n",
    "        for mes in to_check_l:\n",
    "            print(mes.to, my_phone)\n",
    "            if mes.to == my_phone:\n",
    "                client.messages.create(\n",
    "                            to=mes.from_, \n",
    "                            from_=my_phone,\n",
    "                            body=\"Auto_reply\")\n",
    "    print(time.ctime())\n",
    "    \n",
    "    \n",
    "    threading.Timer(10, periodically_check_income).start()\n",
    "\n",
    "periodically_check_income()\n"
   ]
  },
  {
   "cell_type": "code",
   "execution_count": null,
   "metadata": {},
   "outputs": [],
   "source": []
  },
  {
   "cell_type": "code",
   "execution_count": null,
   "metadata": {},
   "outputs": [],
   "source": []
  },
  {
   "cell_type": "code",
   "execution_count": null,
   "metadata": {},
   "outputs": [],
   "source": []
  },
  {
   "cell_type": "code",
   "execution_count": null,
   "metadata": {},
   "outputs": [],
   "source": []
  },
  {
   "cell_type": "code",
   "execution_count": null,
   "metadata": {},
   "outputs": [],
   "source": []
  }
 ],
 "metadata": {
  "kernelspec": {
   "display_name": "Python 3",
   "language": "python",
   "name": "python3"
  },
  "language_info": {
   "codemirror_mode": {
    "name": "ipython",
    "version": 3
   },
   "file_extension": ".py",
   "mimetype": "text/x-python",
   "name": "python",
   "nbconvert_exporter": "python",
   "pygments_lexer": "ipython3",
   "version": "3.7.4"
  }
 },
 "nbformat": 4,
 "nbformat_minor": 2
}
